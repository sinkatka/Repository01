{
  "nbformat": 4,
  "nbformat_minor": 0,
  "metadata": {
    "colab": {
      "name": "Ex1 - .ipynb",
      "provenance": [],
      "collapsed_sections": [],
      "authorship_tag": "ABX9TyOGWqVYhey3Rzr8xnQF4RGW",
      "include_colab_link": true
    },
    "kernelspec": {
      "name": "python3",
      "display_name": "Python 3"
    }
  },
  "cells": [
    {
      "cell_type": "markdown",
      "metadata": {
        "id": "view-in-github",
        "colab_type": "text"
      },
      "source": [
        "<a href=\"https://colab.research.google.com/github/sinkatka/Repository01/blob/master/Sections%204-8.ipynb\" target=\"_parent\"><img src=\"https://colab.research.google.com/assets/colab-badge.svg\" alt=\"Open In Colab\"/></a>"
      ]
    },
    {
      "cell_type": "code",
      "metadata": {
        "colab": {
          "base_uri": "https://localhost:8080/"
        },
        "id": "Wzog4M7CSRaK",
        "outputId": "4d9e65a1-e5aa-4d4a-fdfb-a397b5bc1b10"
      },
      "source": [
        "age = 20\r\n",
        "print(\"I'm {} years old.\".format(age))"
      ],
      "execution_count": 7,
      "outputs": [
        {
          "output_type": "stream",
          "text": [
            "I'm 20 years old.\n"
          ],
          "name": "stdout"
        }
      ]
    },
    {
      "cell_type": "code",
      "metadata": {
        "colab": {
          "base_uri": "https://localhost:8080/"
        },
        "id": "-nMPBmbsTGuQ",
        "outputId": "5418374f-83dc-48d6-d270-f68f0ba1b03e"
      },
      "source": [
        "name = \"Elvira\"\r\n",
        "print(\"My name is {}.\".format(name))"
      ],
      "execution_count": 9,
      "outputs": [
        {
          "output_type": "stream",
          "text": [
            "My name is Elvira.\n"
          ],
          "name": "stdout"
        }
      ]
    },
    {
      "cell_type": "code",
      "metadata": {
        "colab": {
          "base_uri": "https://localhost:8080/"
        },
        "id": "bxnQiijOTl8n",
        "outputId": "8e28da38-6490-4ccc-9a19-c036eec5db25"
      },
      "source": [
        "age = 20\r\n",
        "print(f\"I'm {age} years ald.\")"
      ],
      "execution_count": 11,
      "outputs": [
        {
          "output_type": "stream",
          "text": [
            "I'm 20 years ald.\n"
          ],
          "name": "stdout"
        }
      ]
    },
    {
      "cell_type": "code",
      "metadata": {
        "colab": {
          "base_uri": "https://localhost:8080/"
        },
        "id": "l4CKD6EtTzeY",
        "outputId": "8f2ff048-7814-4034-8e37-ea705a334489"
      },
      "source": [
        "name = \"Elvira\"\r\n",
        "print(f\"My name is {name}.\")"
      ],
      "execution_count": 12,
      "outputs": [
        {
          "output_type": "stream",
          "text": [
            "My name is Elvira.\n"
          ],
          "name": "stdout"
        }
      ]
    },
    {
      "cell_type": "code",
      "metadata": {
        "colab": {
          "base_uri": "https://localhost:8080/"
        },
        "id": "zZw9ml8JUH_z",
        "outputId": "2c624a41-88b2-485c-fd5a-e1ea71f8574a"
      },
      "source": [
        "name = \"Python\" \r\n",
        "version = \"3.8\"\r\n",
        "print(f\"I'm learning {name} version {version}\")"
      ],
      "execution_count": 13,
      "outputs": [
        {
          "output_type": "stream",
          "text": [
            "I'm learning Python version 3.8.\n"
          ],
          "name": "stdout"
        }
      ]
    },
    {
      "cell_type": "code",
      "metadata": {
        "colab": {
          "base_uri": "https://localhost:8080/"
        },
        "id": "kceWyXsdU8fm",
        "outputId": "6695afea-fce2-4a71-a52d-ce57f190913f"
      },
      "source": [
        "price = 199.99\r\n",
        "print('This costs {}'.format(price))"
      ],
      "execution_count": 14,
      "outputs": [
        {
          "output_type": "stream",
          "text": [
            "This costs 199.99\n"
          ],
          "name": "stdout"
        }
      ]
    },
    {
      "cell_type": "code",
      "metadata": {
        "colab": {
          "base_uri": "https://localhost:8080/"
        },
        "id": "kfWttRlmVb_e",
        "outputId": "10620266-44a5-4da0-ad1f-ea1dee2d3c26"
      },
      "source": [
        "price = 199.99\r\n",
        "print(f'This costs {price}')"
      ],
      "execution_count": 15,
      "outputs": [
        {
          "output_type": "stream",
          "text": [
            "This costs 199.99\n"
          ],
          "name": "stdout"
        }
      ]
    },
    {
      "cell_type": "code",
      "metadata": {
        "colab": {
          "base_uri": "https://localhost:8080/"
        },
        "id": "JYzRJMKkVnkR",
        "outputId": "109e3ef3-546d-45dc-ce3c-7fe5ffbf8592"
      },
      "source": [
        "price = 199.99\r\n",
        "print('This costs', price)"
      ],
      "execution_count": 16,
      "outputs": [
        {
          "output_type": "stream",
          "text": [
            "This costs 199.99\n"
          ],
          "name": "stdout"
        }
      ]
    },
    {
      "cell_type": "code",
      "metadata": {
        "colab": {
          "base_uri": "https://localhost:8080/"
        },
        "id": "QpR8eujdVuMk",
        "outputId": "abe71680-8b80-460d-ef0e-a18141880b00"
      },
      "source": [
        "name = \"Elvira\"\r\n",
        "print('My name is', name)"
      ],
      "execution_count": 17,
      "outputs": [
        {
          "output_type": "stream",
          "text": [
            "My name is Elvira\n"
          ],
          "name": "stdout"
        }
      ]
    },
    {
      "cell_type": "code",
      "metadata": {
        "colab": {
          "base_uri": "https://localhost:8080/"
        },
        "id": "nn7xwD3ZV1Rj",
        "outputId": "e60ded88-fea7-40cf-aeb4-e131491aecff"
      },
      "source": [
        "age = 20\r\n",
        "print(\"I'm\", age, \"years old\")"
      ],
      "execution_count": 19,
      "outputs": [
        {
          "output_type": "stream",
          "text": [
            "I'm 20 years old\n"
          ],
          "name": "stdout"
        }
      ]
    },
    {
      "cell_type": "code",
      "metadata": {
        "id": "l71kFPChWCwE"
      },
      "source": [
        ""
      ],
      "execution_count": null,
      "outputs": []
    },
    {
      "cell_type": "code",
      "metadata": {
        "colab": {
          "base_uri": "https://localhost:8080/"
        },
        "id": "_ds1dSUnWNyH",
        "outputId": "e951f746-8e42-497a-962c-09e71940da8f"
      },
      "source": [
        "price = 69.99\r\n",
        "print(f\"This costs {price}\")"
      ],
      "execution_count": 20,
      "outputs": [
        {
          "output_type": "stream",
          "text": [
            "This costs 69.99\n"
          ],
          "name": "stdout"
        }
      ]
    },
    {
      "cell_type": "code",
      "metadata": {
        "colab": {
          "base_uri": "https://localhost:8080/"
        },
        "id": "kz-28T4KWWpD",
        "outputId": "a4f136ce-ec25-47c4-93f2-8f1e0d6ca2a8"
      },
      "source": [
        "price = 69.99\r\n",
        "print(\"This costs\", price)"
      ],
      "execution_count": 21,
      "outputs": [
        {
          "output_type": "stream",
          "text": [
            "This costs 69.99\n"
          ],
          "name": "stdout"
        }
      ]
    },
    {
      "cell_type": "code",
      "metadata": {
        "colab": {
          "base_uri": "https://localhost:8080/"
        },
        "id": "LzpRInW3Wcx8",
        "outputId": "6daabec8-e579-4473-c0e3-d983d5a43de6"
      },
      "source": [
        "price = 69.99\r\n",
        "print(\"This costs {}\".format(price))"
      ],
      "execution_count": 22,
      "outputs": [
        {
          "output_type": "stream",
          "text": [
            "This costs 69.99\n"
          ],
          "name": "stdout"
        }
      ]
    },
    {
      "cell_type": "code",
      "metadata": {
        "colab": {
          "base_uri": "https://localhost:8080/"
        },
        "id": "fpY8QoSrWkfF",
        "outputId": "2e54a690-7574-46d9-9f0c-bcbc1affdf00"
      },
      "source": [
        "type(price)"
      ],
      "execution_count": 23,
      "outputs": [
        {
          "output_type": "execute_result",
          "data": {
            "text/plain": [
              "float"
            ]
          },
          "metadata": {
            "tags": []
          },
          "execution_count": 23
        }
      ]
    },
    {
      "cell_type": "code",
      "metadata": {
        "colab": {
          "base_uri": "https://localhost:8080/"
        },
        "id": "K9y2SimoWzoD",
        "outputId": "9b0ab8b3-07b7-4073-a51d-d4cd1458e214"
      },
      "source": [
        "price = 34.99\r\n",
        "weight = 20\r\n",
        "print(f\"Price: ${price}. Weight: {weight} lbs.\")"
      ],
      "execution_count": 24,
      "outputs": [
        {
          "output_type": "stream",
          "text": [
            "Price: $34.99. Weight: 20 lbs.\n"
          ],
          "name": "stdout"
        }
      ]
    },
    {
      "cell_type": "code",
      "metadata": {
        "colab": {
          "base_uri": "https://localhost:8080/"
        },
        "id": "YEbqA5JMXRlT",
        "outputId": "9e701884-1f8d-4c91-9711-0c38551401a0"
      },
      "source": [
        "pi = 3.1415926535\r\n",
        "print(f\"Pi: {pi:.2f}\")"
      ],
      "execution_count": 29,
      "outputs": [
        {
          "output_type": "stream",
          "text": [
            "Pi: 3.14\n"
          ],
          "name": "stdout"
        }
      ]
    },
    {
      "cell_type": "code",
      "metadata": {
        "colab": {
          "base_uri": "https://localhost:8080/"
        },
        "id": "aiZi1Le5YUZO",
        "outputId": "528ecd6e-a0b1-4b57-d210-3b3063fe8c5d"
      },
      "source": [
        "a = 152.24598711222\r\n",
        "print(f\"a is {a:.3f}\")\r\n",
        "print(f\"a is {a:.2f}\")\r\n",
        "print(f\"a is {a:.6f}\")"
      ],
      "execution_count": 32,
      "outputs": [
        {
          "output_type": "stream",
          "text": [
            "a is 152.246\n",
            "a is 152.25\n",
            "a is 152.245987\n"
          ],
          "name": "stdout"
        }
      ]
    },
    {
      "cell_type": "code",
      "metadata": {
        "colab": {
          "base_uri": "https://localhost:8080/"
        },
        "id": "0IaADt8al0Bt",
        "outputId": "e29d2d76-4207-4f7f-c2de-a3806aa58b60"
      },
      "source": [
        "print(40 * \"-\")\r\n",
        "print(\"VERSION: 1.0.1\")\r\n",
        "print(40*\"-\")"
      ],
      "execution_count": 35,
      "outputs": [
        {
          "output_type": "stream",
          "text": [
            "----------------------------------------\n",
            "VERSION: 1.0.1\n",
            "----------------------------------------\n"
          ],
          "name": "stdout"
        }
      ]
    },
    {
      "cell_type": "code",
      "metadata": {
        "colab": {
          "base_uri": "https://localhost:8080/"
        },
        "id": "YSCKK_esmbsV",
        "outputId": "0131c854-3f8b-49fa-e27c-abb72816b0e7"
      },
      "source": [
        "print(\"=\"*40)\r\n",
        "print(\"author: johnsmith@sample.com\")\r\n",
        "print(\"date: 01-01-2021\")\r\n",
        "print(\"=\"*40)"
      ],
      "execution_count": 36,
      "outputs": [
        {
          "output_type": "stream",
          "text": [
            "========================================\n",
            "author: johnsmith@sample.com\n",
            "date: 01-01-2021\n",
            "========================================\n"
          ],
          "name": "stdout"
        }
      ]
    },
    {
      "cell_type": "code",
      "metadata": {
        "colab": {
          "base_uri": "https://localhost:8080/"
        },
        "id": "efGCU-USnXnO",
        "outputId": "1becaf88-7726-47fa-a52e-e315ffa058da"
      },
      "source": [
        "sep = \"#\"\r\n",
        "print(f\"'summer{sep}time{sep}holiday'\")"
      ],
      "execution_count": 38,
      "outputs": [
        {
          "output_type": "stream",
          "text": [
            "'summer#time#holiday'\n"
          ],
          "name": "stdout"
        }
      ]
    },
    {
      "cell_type": "code",
      "metadata": {
        "colab": {
          "base_uri": "https://localhost:8080/"
        },
        "id": "tjT8KDYin6bE",
        "outputId": "60f3d7a7-1370-4a01-ca56-3ec5f1a59e3a"
      },
      "source": [
        "print(\"summer\", \"time\", \"holiday\", sep = \"#\")"
      ],
      "execution_count": 39,
      "outputs": [
        {
          "output_type": "stream",
          "text": [
            "summer#time#holiday\n"
          ],
          "name": "stdout"
        }
      ]
    },
    {
      "cell_type": "code",
      "metadata": {
        "colab": {
          "base_uri": "https://localhost:8080/"
        },
        "id": "pE9_3R4voOx0",
        "outputId": "fe26c9ed-c8ed-4894-c14b-fd6990f17fdb"
      },
      "source": [
        "print(\"summer\", \"time\", \"holiday\", sep = \"A \")"
      ],
      "execution_count": 43,
      "outputs": [
        {
          "output_type": "stream",
          "text": [
            "summerA timeA holiday\n"
          ],
          "name": "stdout"
        }
      ]
    },
    {
      "cell_type": "code",
      "metadata": {
        "colab": {
          "base_uri": "https://localhost:8080/"
        },
        "id": "DvCceRt4oUDl",
        "outputId": "a9754270-adb5-42ca-840d-3d2e7e3c2b18"
      },
      "source": [
        "radius = 5\r\n",
        "pi = 3.14\r\n",
        "area = pi * radius**2\r\n",
        "print(f\"Area: {area:.1f} in2\")"
      ],
      "execution_count": 47,
      "outputs": [
        {
          "output_type": "stream",
          "text": [
            "Area: 78.5 in2\n"
          ],
          "name": "stdout"
        }
      ]
    },
    {
      "cell_type": "code",
      "metadata": {
        "colab": {
          "base_uri": "https://localhost:8080/"
        },
        "id": "vwV2JREEqv7T",
        "outputId": "61a38741-4bc2-45e4-a882-4de41b33876f"
      },
      "source": [
        "rate = 3\r\n",
        "a = 1000\r\n",
        "period = 1 \r\n",
        "for period in range(1,6):\r\n",
        "  b = a + a * (rate/100)\r\n",
        "  a = b\r\n",
        "  period += 1\r\n",
        "print(f\"The future value of the investment: {a:.2f} USD\")"
      ],
      "execution_count": 49,
      "outputs": [
        {
          "output_type": "stream",
          "text": [
            "The future value of the investment: 1159.27 USD\n"
          ],
          "name": "stdout"
        }
      ]
    },
    {
      "cell_type": "code",
      "metadata": {
        "colab": {
          "base_uri": "https://localhost:8080/"
        },
        "id": "Xd8Ex9-NvFWJ",
        "outputId": "a9eaa59a-bcb0-4e83-c0ae-d7617e5a8753"
      },
      "source": [
        "a = 3\r\n",
        "b = -4\r\n",
        "c = 1\r\n",
        "delta = b**2 - 4*a*c\r\n",
        "print(f\"Delta: {delta}\")"
      ],
      "execution_count": 60,
      "outputs": [
        {
          "output_type": "stream",
          "text": [
            "Delta: 4\n"
          ],
          "name": "stdout"
        }
      ]
    },
    {
      "cell_type": "code",
      "metadata": {
        "colab": {
          "base_uri": "https://localhost:8080/"
        },
        "id": "q2kR_vp-8rrv",
        "outputId": "d30c5acd-03f7-4af1-8e56-dc7bcebe1c7f"
      },
      "source": [
        "a1 = 14\r\n",
        "a10 = 50\r\n",
        "n = 10\r\n",
        "s10 = ((a1 + a10)/2) * n\r\n",
        "print(f\"The sum of the first 10 elements in a sequence: {s10}\")"
      ],
      "execution_count": 62,
      "outputs": [
        {
          "output_type": "stream",
          "text": [
            "The sum of the first 10 elements in a sequence: 320.0\n"
          ],
          "name": "stdout"
        }
      ]
    },
    {
      "cell_type": "code",
      "metadata": {
        "colab": {
          "base_uri": "https://localhost:8080/"
        },
        "id": "P7L_aeqwBMKs",
        "outputId": "b5258b58-31f6-4a8c-b90c-a021cdd0ded2"
      },
      "source": [
        "n = 1\r\n",
        "el = 6\r\n",
        "sum = 0\r\n",
        "for n in range(1,el + 1):\r\n",
        "    sumn = sum + (8 * 2**(n-1))\r\n",
        "    sum = sumn\r\n",
        "    n += 1\r\n",
        "print(f\"The sum of the first 6 elements of the sequence is: {sum:.1f}\")"
      ],
      "execution_count": 64,
      "outputs": [
        {
          "output_type": "stream",
          "text": [
            "The sum of the first 6 elements of the sequence is: 504.0\n"
          ],
          "name": "stdout"
        }
      ]
    },
    {
      "cell_type": "code",
      "metadata": {
        "colab": {
          "base_uri": "https://localhost:8080/"
        },
        "id": "25sdxmf-IOa7",
        "outputId": "f1e0dffb-fa75-4e50-984b-a41d327a683b"
      },
      "source": [
        "import math\r\n",
        "from math import sqrt\r\n",
        "a = 1\r\n",
        "b = 5\r\n",
        "c = 4\r\n",
        "x1 = (-b + sqrt(b**2 + 4*a*c))/(2*a)\r\n",
        "x2 = (-b - sqrt(b**2 + 4*a*c))/(2*a)\r\n",
        "print(x1)\r\n",
        "print(x2)\r\n",
        "sum = x1 + x2\r\n",
        "prod = x1 * x2\r\n",
        "print(f\"x1+x2 = {sum:.1f}\")\r\n",
        "print(f\"x1*x2 = {prod:.1f}\")\r\n",
        "\r\n"
      ],
      "execution_count": 68,
      "outputs": [
        {
          "output_type": "stream",
          "text": [
            "0.7015621187164243\n",
            "-5.701562118716424\n",
            "x1+x2 = -5.0\n",
            "x1*x2 = -4.0\n"
          ],
          "name": "stdout"
        }
      ]
    },
    {
      "cell_type": "code",
      "metadata": {
        "colab": {
          "base_uri": "https://localhost:8080/"
        },
        "id": "uvrUAGBaKcoO",
        "outputId": "4c5b8f7a-687b-4d01-e9b0-2572731b7a6e"
      },
      "source": [
        "a = 1\r\n",
        "b = 5\r\n",
        "c = 4\r\n",
        "sum = -b/a\r\n",
        "product = c/a\r\n",
        "print(f\"x1+x2 = {sum}\\nx1*x2 = {product}\")\r\n"
      ],
      "execution_count": 73,
      "outputs": [
        {
          "output_type": "stream",
          "text": [
            "x1+x2 = -5.0\n",
            "x1*x2 = 4.0\n"
          ],
          "name": "stdout"
        }
      ]
    },
    {
      "cell_type": "code",
      "metadata": {
        "colab": {
          "base_uri": "https://localhost:8080/"
        },
        "id": "9Iht2cF6OL3n",
        "outputId": "e7483229-835d-446b-afb5-a2c1c31cff5c"
      },
      "source": [
        "a = 1\r\n",
        "b = 5\r\n",
        "c = 4\r\n",
        "sum = -b/a\r\n",
        "product = c/a\r\n",
        "print(f\"x1+x2 = {sum}\\nx1*x2 = {product}\")\r\n",
        "print(f'x1+x2 = {sum}\\nx1x2 = {product}')"
      ],
      "execution_count": 74,
      "outputs": [
        {
          "output_type": "stream",
          "text": [
            "x1+x2 = -5.0\n",
            "x1*x2 = 4.0\n",
            "x1+x2 = -5.0\n",
            "x1x2 = 4.0\n"
          ],
          "name": "stdout"
        }
      ]
    },
    {
      "cell_type": "code",
      "metadata": {
        "colab": {
          "base_uri": "https://localhost:8080/"
        },
        "id": "EalymGfqPWct",
        "outputId": "e7717c42-d1dc-4eaa-8c16-d2f682e6b667"
      },
      "source": [
        "a1 = 2\r\n",
        "b1 = 4\r\n",
        "a2 = -4\r\n",
        "b2 = 6\r\n",
        "amid = (a1 + a2)/2\r\n",
        "bmid = (b1 + b2)/2\r\n",
        "print(f\"The middle point of a line segment: ({amid}, {bmid})\")"
      ],
      "execution_count": 75,
      "outputs": [
        {
          "output_type": "stream",
          "text": [
            "The middle point of a line segment: (-1.0, 5.0)\n"
          ],
          "name": "stdout"
        }
      ]
    },
    {
      "cell_type": "code",
      "metadata": {
        "colab": {
          "base_uri": "https://localhost:8080/"
        },
        "id": "r75MFWgjUegt",
        "outputId": "67fff281-a30b-455c-84c2-543eddeedb03"
      },
      "source": [
        "import math\r\n",
        "from math import sqrt\r\n",
        "a_a = 3\r\n",
        "b_a = 2\r\n",
        "a_b = -1\r\n",
        "b_b = -1\r\n",
        "Distance = sqrt((a_b - a_a)**2 + (b_b - b_a)**2)\r\n",
        "print(f\"The distance between points A and B: {Distance}\")"
      ],
      "execution_count": 76,
      "outputs": [
        {
          "output_type": "stream",
          "text": [
            "The distance between points A and B: 5.0\n"
          ],
          "name": "stdout"
        }
      ]
    },
    {
      "cell_type": "code",
      "metadata": {
        "colab": {
          "base_uri": "https://localhost:8080/"
        },
        "id": "hWDIQXCjbZRB",
        "outputId": "fbe31c18-bd01-4fee-f98d-6c7adb3f5865"
      },
      "source": [
        "a_a = 3\r\n",
        "b_a = 2\r\n",
        "a_b = -1\r\n",
        "b_b = -1\r\n",
        "Distance = ((a_b - a_a)**2 + (b_b - b_a)**2)**(1/2)\r\n",
        "print(f\"The distance between points A and B: {Distance}\")"
      ],
      "execution_count": 78,
      "outputs": [
        {
          "output_type": "stream",
          "text": [
            "The distance between points A and B: 5.0\n"
          ],
          "name": "stdout"
        }
      ]
    },
    {
      "cell_type": "code",
      "metadata": {
        "colab": {
          "base_uri": "https://localhost:8080/"
        },
        "id": "SI9pguIDbjeK",
        "outputId": "a4db57cf-11a1-4c8e-e339-bbb24885f4b9"
      },
      "source": [
        "a = 1\r\n",
        "b = 5\r\n",
        "c = 4\r\n",
        "x1 = (-b + sqrt(b**2 - 4*a*c))/(2*a)\r\n",
        "x2 = (-b - sqrt(b**2 - 4*a*c))/(2*a)\r\n",
        "print(f\"x1 = {x1:.1f}\\nx2 = {x2:.1f}\")"
      ],
      "execution_count": 84,
      "outputs": [
        {
          "output_type": "stream",
          "text": [
            "x1 = -1.0\n",
            "x2 = -4.0\n"
          ],
          "name": "stdout"
        }
      ]
    },
    {
      "cell_type": "code",
      "metadata": {
        "colab": {
          "base_uri": "https://localhost:8080/"
        },
        "id": "hL_zpkMwcI7i",
        "outputId": "be82630c-67df-4b3a-84fd-b73a35369b8d"
      },
      "source": [
        "a = 1\r\n",
        "b = 5\r\n",
        "c = 4\r\n",
        "x1 = (-b + (b ** 2 - 4 * a * c)**(1/2)) / (2*a)\r\n",
        "x2 = (-b - (b ** 2 - 4 * a * c)**(1/2)) / (2*a)\r\n",
        "print(f\"x1 = {x1:.1f}\\nx2 = {x2:.1f}\")"
      ],
      "execution_count": 83,
      "outputs": [
        {
          "output_type": "stream",
          "text": [
            "x1 = -1.0\n",
            "x2 = -4.0\n"
          ],
          "name": "stdout"
        }
      ]
    },
    {
      "cell_type": "code",
      "metadata": {
        "colab": {
          "base_uri": "https://localhost:8080/"
        },
        "id": "Umz6TxyScfPj",
        "outputId": "5b23da5d-a3be-41ad-bd8d-8010bb9cdc92"
      },
      "source": [
        "a = 1\r\n",
        "b = 5\r\n",
        "c = 4\r\n",
        "delta = b ** 2 - 4 * a * c\r\n",
        "delta_sqrt = delta ** (1/2)\r\n",
        "x1 = (-b - delta_sqrt) / (2 * a)\r\n",
        "x2 = (-b + delta_sqrt) / (2 * a)\r\n",
        "print(f'x1 = {x1}')\r\n",
        "print(f'x2 = {x2}')"
      ],
      "execution_count": 82,
      "outputs": [
        {
          "output_type": "stream",
          "text": [
            "x1 = -4.0\n",
            "x2 = -1.0\n"
          ],
          "name": "stdout"
        }
      ]
    },
    {
      "cell_type": "code",
      "metadata": {
        "colab": {
          "base_uri": "https://localhost:8080/"
        },
        "id": "VV4W83o0dgtS",
        "outputId": "eb362dfc-8e99-46fd-ebd6-333616d3611d"
      },
      "source": [
        "arif_average = (4 + 3 + 4.5 + 5) / 4\r\n",
        "print(f\"Geometric average of the given numbers: {arif_average:.2f}\")"
      ],
      "execution_count": 86,
      "outputs": [
        {
          "output_type": "stream",
          "text": [
            "Geometric average of the given numbers: 4.12\n"
          ],
          "name": "stdout"
        }
      ]
    },
    {
      "cell_type": "code",
      "metadata": {
        "colab": {
          "base_uri": "https://localhost:8080/"
        },
        "id": "bKpW_MKyecNX",
        "outputId": "632b5090-ef2e-4679-9bc8-dcbe37ad611d"
      },
      "source": [
        "x1, x2, x3, x4 = 4, 3, 4.5, 5\r\n",
        "geom_average = (x1 * x2 * x3 * x4)**(1/4)\r\n",
        "print (f\"Geometric average of the given numbers: {geom_average:.2f}\")"
      ],
      "execution_count": 87,
      "outputs": [
        {
          "output_type": "stream",
          "text": [
            "Geometric average of the given numbers: 4.05\n"
          ],
          "name": "stdout"
        }
      ]
    },
    {
      "cell_type": "code",
      "metadata": {
        "colab": {
          "base_uri": "https://localhost:8080/"
        },
        "id": "_YXl3trvfQXR",
        "outputId": "6b3d2925-f73b-494a-e655-14194896cc40"
      },
      "source": [
        "x1, x2, x3, x4 = 1, 1/2, 1/4, 1/8\r\n",
        "q = 1/2\r\n",
        "s = x1 / (1 - q)\r\n",
        "print(f\"the sum of the sequence: {s:.1f}\")"
      ],
      "execution_count": 88,
      "outputs": [
        {
          "output_type": "stream",
          "text": [
            "the sum of the sequence: 2.0\n"
          ],
          "name": "stdout"
        }
      ]
    },
    {
      "cell_type": "code",
      "metadata": {
        "colab": {
          "base_uri": "https://localhost:8080/"
        },
        "id": "rKbCyHwI3XhN",
        "outputId": "dde30352-c9c3-4fec-9f2d-221fcc50f451"
      },
      "source": [
        "x1, x2, x3 = 10, 11, 9\r\n",
        "mean = (x1 + x2 + x3) / 3.0\r\n",
        "var = ((x1 - mean)**2 + (x2 - mean)**2 + (x3 - mean)**2) / 3.0\r\n",
        "std = var**(1/2)\r\n",
        "print(f'The standard deviation of the data set is: {std:.2f}')"
      ],
      "execution_count": 89,
      "outputs": [
        {
          "output_type": "stream",
          "text": [
            "The standard deviation of the data set is: 0.82\n"
          ],
          "name": "stdout"
        }
      ]
    },
    {
      "cell_type": "code",
      "metadata": {
        "colab": {
          "base_uri": "https://localhost:8080/"
        },
        "id": "FWl7B1yQsFv_",
        "outputId": "f8d4932f-9fe4-4f76-a476-d635763d4151"
      },
      "source": [
        "filename = \"view.jpg\"\r\n",
        "print(filename[-3:])"
      ],
      "execution_count": 4,
      "outputs": [
        {
          "output_type": "stream",
          "text": [
            "jpg\n"
          ],
          "name": "stdout"
        }
      ]
    },
    {
      "cell_type": "code",
      "metadata": {
        "colab": {
          "base_uri": "https://localhost:8080/"
        },
        "id": "ihIElhKKxnzu",
        "outputId": "1ae7ede3-8f6f-418a-d350-e850a7d0d69d"
      },
      "source": [
        "string = 'PKV-89415-PLN'\r\n",
        "a = string[:3] + string[-3:]\r\n",
        "print(a)"
      ],
      "execution_count": 18,
      "outputs": [
        {
          "output_type": "stream",
          "text": [
            "PKVPLN\n"
          ],
          "name": "stdout"
        }
      ]
    },
    {
      "cell_type": "code",
      "metadata": {
        "colab": {
          "base_uri": "https://localhost:8080/"
        },
        "id": "tHlLj0dMyGHk",
        "outputId": "fa6d8229-4532-47f1-feb4-395e0a4cb485"
      },
      "source": [
        "string = '1 0 0 1 0 1'\r\n",
        "a = string[::2]\r\n",
        "print(f\"Number found: {int(a,2)}\")\r\n",
        "binary = int(a,2)\r\n",
        "print(binary)"
      ],
      "execution_count": 7,
      "outputs": [
        {
          "output_type": "stream",
          "text": [
            "Number found: 37\n",
            "37\n"
          ],
          "name": "stdout"
        }
      ]
    },
    {
      "cell_type": "code",
      "metadata": {
        "colab": {
          "base_uri": "https://localhost:8080/"
        },
        "id": "XL24Usoyoyi3",
        "outputId": "2cc52255-bb6d-49a1-e072-262e04c92ba1"
      },
      "source": [
        "text = 'Python Course'\r\n",
        "reverse = text[::-1]\r\n",
        "print(reverse)"
      ],
      "execution_count": 8,
      "outputs": [
        {
          "output_type": "stream",
          "text": [
            "esruoC nohtyP\n"
          ],
          "name": "stdout"
        }
      ]
    },
    {
      "cell_type": "code",
      "metadata": {
        "colab": {
          "base_uri": "https://localhost:8080/"
        },
        "id": "mIL1SBZLpDTO",
        "outputId": "7d58b4d2-b201-4bce-944f-1a60747c448a"
      },
      "source": [
        "var1 = ''\r\n",
        "var2 = ' '\r\n",
        "var3 = '\\n'\r\n",
        "print(type(var1))\r\n",
        "print(type(var2))\r\n",
        "print(type(var3))"
      ],
      "execution_count": 10,
      "outputs": [
        {
          "output_type": "stream",
          "text": [
            "<class 'str'>\n",
            "<class 'str'>\n",
            "<class 'str'>\n"
          ],
          "name": "stdout"
        }
      ]
    },
    {
      "cell_type": "code",
      "metadata": {
        "colab": {
          "base_uri": "https://localhost:8080/"
        },
        "id": "faYKP2RVqu3E",
        "outputId": "7e0d9058-7af9-4362-c345-23a601087420"
      },
      "source": [
        "var1 = None\r\n",
        "var2 = False\r\n",
        "var3 = 'True'\r\n",
        "print(type(var1))\r\n",
        "print(type(var2))\r\n",
        "print(type(var3))"
      ],
      "execution_count": 11,
      "outputs": [
        {
          "output_type": "stream",
          "text": [
            "<class 'NoneType'>\n",
            "<class 'bool'>\n",
            "<class 'str'>\n"
          ],
          "name": "stdout"
        }
      ]
    },
    {
      "cell_type": "code",
      "metadata": {
        "colab": {
          "base_uri": "https://localhost:8080/"
        },
        "id": "NjYunZntrUXb",
        "outputId": "fd569ca1-7d15-4249-d058-815906b418d7"
      },
      "source": [
        "flag = False\r\n",
        "print(isinstance(flag,bool))"
      ],
      "execution_count": 16,
      "outputs": [
        {
          "output_type": "stream",
          "text": [
            "True\n"
          ],
          "name": "stdout"
        }
      ]
    },
    {
      "cell_type": "code",
      "metadata": {
        "colab": {
          "base_uri": "https://localhost:8080/"
        },
        "id": "drM52MNSswKT",
        "outputId": "ea89b9d1-4eff-4817-b774-87cd1059e927"
      },
      "source": [
        "a = \"hello\"\r\n",
        "print(isinstance(a,bool))"
      ],
      "execution_count": 19,
      "outputs": [
        {
          "output_type": "stream",
          "text": [
            "False\n"
          ],
          "name": "stdout"
        }
      ]
    },
    {
      "cell_type": "code",
      "metadata": {
        "colab": {
          "base_uri": "https://localhost:8080/"
        },
        "id": "eMFE_Gduszuk",
        "outputId": "a975e1b9-4efd-413d-94c0-279ea954dcff"
      },
      "source": [
        "a = \"hello\"\r\n",
        "print(isinstance(a,int))"
      ],
      "execution_count": 20,
      "outputs": [
        {
          "output_type": "stream",
          "text": [
            "False\n"
          ],
          "name": "stdout"
        }
      ]
    },
    {
      "cell_type": "code",
      "metadata": {
        "colab": {
          "base_uri": "https://localhost:8080/"
        },
        "id": "YAdVPpZ-s677",
        "outputId": "50aedb9a-7a9e-4501-d9dd-f62253800a1b"
      },
      "source": [
        "a = \"hello\"\r\n",
        "print(isinstance(a,str))"
      ],
      "execution_count": 21,
      "outputs": [
        {
          "output_type": "stream",
          "text": [
            "True\n"
          ],
          "name": "stdout"
        }
      ]
    },
    {
      "cell_type": "code",
      "metadata": {
        "colab": {
          "base_uri": "https://localhost:8080/"
        },
        "id": "oMUE0wGzs_Rj",
        "outputId": "0f6b4421-ae29-43cb-fe8c-d2560d25215c"
      },
      "source": [
        "text = 'python is a popular programming language.'\r\n",
        "print(text.capitalize())"
      ],
      "execution_count": 27,
      "outputs": [
        {
          "output_type": "stream",
          "text": [
            "Python is a popular programming language.\n"
          ],
          "name": "stdout"
        }
      ]
    },
    {
      "cell_type": "code",
      "metadata": {
        "colab": {
          "base_uri": "https://localhost:8080/"
        },
        "id": "8FeIWwNhtcKK",
        "outputId": "07ce0986-a5f5-4f8e-d50e-a440b1d6b3d0"
      },
      "source": [
        "text = \"Elvira\"\r\n",
        "print(text.capitalize())"
      ],
      "execution_count": 31,
      "outputs": [
        {
          "output_type": "stream",
          "text": [
            "Elvira\n"
          ],
          "name": "stdout"
        }
      ]
    },
    {
      "cell_type": "code",
      "metadata": {
        "colab": {
          "base_uri": "https://localhost:8080/"
        },
        "id": "lRDKlkQWuFxC",
        "outputId": "4b6adbed-d368-4de3-9471-bc0c73474bb5"
      },
      "source": [
        "text = \"elvira \"\r\n",
        "text2 = \"zinnatullina\"\r\n",
        "print(text.capitalize() + text2.capitalize())"
      ],
      "execution_count": 32,
      "outputs": [
        {
          "output_type": "stream",
          "text": [
            "Elvira Zinnatullina\n"
          ],
          "name": "stdout"
        }
      ]
    },
    {
      "cell_type": "code",
      "metadata": {
        "colab": {
          "base_uri": "https://localhost:8080/"
        },
        "id": "BccbQllavNIx",
        "outputId": "bb64adec-ca37-4334-898d-117c2112188e"
      },
      "source": [
        "text = 'python is a popular programming language.'\r\n",
        "print(f\"Number of occurrences: {text.count('p')}\")"
      ],
      "execution_count": 39,
      "outputs": [
        {
          "output_type": "stream",
          "text": [
            "Number of occurrences: 4\n"
          ],
          "name": "stdout"
        }
      ]
    },
    {
      "cell_type": "code",
      "metadata": {
        "id": "_AKBYpAuw3dU"
      },
      "source": [
        "text = 'python is a popular programming language.'\r\n",
        "counter = text.count(\"p\")\r\n",
        "print(f\"Number of occurrences: {counter}\")"
      ],
      "execution_count": null,
      "outputs": []
    },
    {
      "cell_type": "code",
      "metadata": {
        "colab": {
          "base_uri": "https://localhost:8080/"
        },
        "id": "m-BpuDrfzvmK",
        "outputId": "a8e7752b-41c7-4396-933a-aa3bcf994cb0"
      },
      "source": [
        "code1 = 'FVNISJND-XX-2020'\r\n",
        "code2 = 'FVNISJND-XY-2019'\r\n",
        "print(f\"code1: {code1.endswith('2020')}\")\r\n",
        "print(f\"code2: {code2.endswith('2020')}\")"
      ],
      "execution_count": 44,
      "outputs": [
        {
          "output_type": "stream",
          "text": [
            "code1: True\n",
            "code2: False\n"
          ],
          "name": "stdout"
        }
      ]
    },
    {
      "cell_type": "code",
      "metadata": {
        "colab": {
          "base_uri": "https://localhost:8080/"
        },
        "id": "b36r8GVA1BDy",
        "outputId": "aef6a2de-4f54-4aab-a947-948a479b167a"
      },
      "source": [
        "path1 = 'youtube.com/watch?v=5EhRztVxums'\r\n",
        "path2 = 'google.com/search?q=car'\r\n",
        "print(f\"path1: {path1.startswith('youtube')}\")\r\n",
        "print(f\"path2: {path2.startswith('youtube')}\")"
      ],
      "execution_count": 58,
      "outputs": [
        {
          "output_type": "stream",
          "text": [
            "path1: True\n",
            "path2: False\n"
          ],
          "name": "stdout"
        }
      ]
    },
    {
      "cell_type": "code",
      "metadata": {
        "colab": {
          "base_uri": "https://localhost:8080/"
        },
        "id": "GMycNts88XgW",
        "outputId": "9c265dc4-4a6e-4572-901b-427692cc7983"
      },
      "source": [
        "path1 = 'https://e-smartdata.teachable.com/p/sciezka-data-scientist-machine-learning-engineer'\r\n",
        "path2 = 'https://e-smartdata.teachable.com/p/sciezka-data-scientist-deep-learning-engineer'\r\n",
        "path3 = 'https://e-smartdata.teachable.com/p/sciezka-bi-analyst-data-analyst'\r\n",
        "print(f\"path1: {path1.find('scientist')}\")\r\n",
        "print(f\"path2: {path2.find('scientist')}\")\r\n",
        "print(f\"path3: {path3.find('scientist')}\")"
      ],
      "execution_count": 61,
      "outputs": [
        {
          "output_type": "stream",
          "text": [
            "path1: 49\n",
            "path2: 49\n",
            "path3: -1\n"
          ],
          "name": "stdout"
        }
      ]
    },
    {
      "cell_type": "code",
      "metadata": {
        "colab": {
          "base_uri": "https://localhost:8080/"
        },
        "id": "WhyZJ28O-lzU",
        "outputId": "dba5ef68-2fc6-41a9-c7ee-e51f6b212ae9"
      },
      "source": [
        "code1 = 'FVNISJND-20'\r\n",
        "code2 = 'FVNISJND20'\r\n",
        "print(f\"code1: {code1.isalnum()}\")\r\n",
        "print(f\"code2: {code2.isalnum()}\")"
      ],
      "execution_count": 64,
      "outputs": [
        {
          "output_type": "stream",
          "text": [
            "code1: False\n",
            "code2: True\n"
          ],
          "name": "stdout"
        }
      ]
    },
    {
      "cell_type": "code",
      "metadata": {
        "colab": {
          "base_uri": "https://localhost:8080/"
        },
        "id": "xS_1qNW9GEnS",
        "outputId": "188de5a6-55c1-4811-c646-af241d2e1e69"
      },
      "source": [
        "text = 'Google Colab'\r\n",
        "text2 = text.lower()\r\n",
        "print(text2)"
      ],
      "execution_count": 65,
      "outputs": [
        {
          "output_type": "stream",
          "text": [
            "google colab\n"
          ],
          "name": "stdout"
        }
      ]
    },
    {
      "cell_type": "code",
      "metadata": {
        "colab": {
          "base_uri": "https://localhost:8080/"
        },
        "id": "JvbdTOn3G09q",
        "outputId": "d9779b18-3a0f-4e7c-cf3b-476136abfa02"
      },
      "source": [
        "text = 'Google Colab'\r\n",
        "print(text.upper())"
      ],
      "execution_count": 66,
      "outputs": [
        {
          "output_type": "stream",
          "text": [
            "GOOGLE COLAB\n"
          ],
          "name": "stdout"
        }
      ]
    },
    {
      "cell_type": "code",
      "metadata": {
        "colab": {
          "base_uri": "https://localhost:8080/"
        },
        "id": "GsfPjc8IHCoK",
        "outputId": "c597518e-10fd-4d8d-f38f-6e0973f21051"
      },
      "source": [
        "text = '  Google Colab   '\r\n",
        "print(text.strip())"
      ],
      "execution_count": 67,
      "outputs": [
        {
          "output_type": "stream",
          "text": [
            "Google Colab\n"
          ],
          "name": "stdout"
        }
      ]
    },
    {
      "cell_type": "code",
      "metadata": {
        "colab": {
          "base_uri": "https://localhost:8080/"
        },
        "id": "cBYJ1zN2H3jg",
        "outputId": "c4706c6b-3be7-4321-f135-62de0302263e"
      },
      "source": [
        "code = 'FVNISJND-XX'\r\n",
        "print(code.replace('-', ' '))"
      ],
      "execution_count": 68,
      "outputs": [
        {
          "output_type": "stream",
          "text": [
            "FVNISJND XX\n"
          ],
          "name": "stdout"
        }
      ]
    },
    {
      "cell_type": "code",
      "metadata": {
        "colab": {
          "base_uri": "https://localhost:8080/"
        },
        "id": "FrXCuyHuIhzp",
        "outputId": "7f2ccdea-df14-4f20-ba02-1907455c58bf"
      },
      "source": [
        "text = '340-23-245-235'\r\n",
        "print(text.replace('-', ''))"
      ],
      "execution_count": 70,
      "outputs": [
        {
          "output_type": "stream",
          "text": [
            "34023245235\n"
          ],
          "name": "stdout"
        }
      ]
    },
    {
      "cell_type": "code",
      "metadata": {
        "colab": {
          "base_uri": "https://localhost:8080/"
        },
        "id": "6QnNxa6eIxCZ",
        "outputId": "9b26d649-c668-4a5d-b295-ed71c0afc8f9"
      },
      "source": [
        "text = 'Open,High,Low,Close'\r\n",
        "print(text.replace(',', ', '))"
      ],
      "execution_count": 71,
      "outputs": [
        {
          "output_type": "stream",
          "text": [
            "Open, High, Low, Close\n"
          ],
          "name": "stdout"
        }
      ]
    },
    {
      "cell_type": "code",
      "metadata": {
        "colab": {
          "base_uri": "https://localhost:8080/"
        },
        "id": "ObfLE5C2JKbw",
        "outputId": "e585221d-bb63-4234-e72a-13000b2b82e9"
      },
      "source": [
        "text = 'Open,High,Low,Close'\r\n",
        "a =text.split(\",\")\r\n",
        "print(a)"
      ],
      "execution_count": 77,
      "outputs": [
        {
          "output_type": "stream",
          "text": [
            "['Open', 'High', 'Low', 'Close']\n"
          ],
          "name": "stdout"
        }
      ]
    },
    {
      "cell_type": "code",
      "metadata": {
        "colab": {
          "base_uri": "https://localhost:8080/"
        },
        "id": "W4ORiviIJRc5",
        "outputId": "6e10e15a-d987-4a93-9234-d4608f787c33"
      },
      "source": [
        "text = \"\"\"Python is a general-purpose language.\r\n",
        "Python is popular.\"\"\"\r\n",
        "print(text.splitlines())"
      ],
      "execution_count": 80,
      "outputs": [
        {
          "output_type": "stream",
          "text": [
            "['Python is a general-purpose language.', 'Python is popular.']\n"
          ],
          "name": "stdout"
        }
      ]
    },
    {
      "cell_type": "code",
      "metadata": {
        "colab": {
          "base_uri": "https://localhost:8080/"
        },
        "id": "nGgku98SKPr5",
        "outputId": "de42d642-2599-47a4-9347-5a46b4c9b653"
      },
      "source": [
        "num = 34\r\n",
        "print(str(num).zfill(6))"
      ],
      "execution_count": 81,
      "outputs": [
        {
          "output_type": "stream",
          "text": [
            "000034\n"
          ],
          "name": "stdout"
        }
      ]
    },
    {
      "cell_type": "code",
      "metadata": {
        "colab": {
          "base_uri": "https://localhost:8080/"
        },
        "id": "AmuEz37ILULI",
        "outputId": "ca358b5c-d95e-4a41-b650-9d2259981679"
      },
      "source": [
        "url = 'https://e-smartdata.teachable.com/p/sciezka-data-scientist-machine-learning-engineer'\r\n",
        "a = url.split('/')[-1]\r\n",
        "b = a.replace('-', ' ')\r\n",
        "print(b)"
      ],
      "execution_count": 82,
      "outputs": [
        {
          "output_type": "stream",
          "text": [
            "sciezka data scientist machine learning engineer\n"
          ],
          "name": "stdout"
        }
      ]
    },
    {
      "cell_type": "code",
      "metadata": {
        "id": "9Nrf04bkMELP"
      },
      "source": [
        ""
      ],
      "execution_count": null,
      "outputs": []
    }
  ]
}